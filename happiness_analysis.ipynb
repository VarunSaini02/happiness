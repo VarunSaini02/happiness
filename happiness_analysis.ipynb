{
 "cells": [
  {
   "cell_type": "markdown",
   "metadata": {
    "id": "eA9oyxz-JyUT"
   },
   "source": [
    "#**To do:**\n",
    "\n",
    "- [define factors](https://happiness-report.s3.amazonaws.com/2021/Appendix1WHR2021C2.pdf)\n",
    "- put labels on graphs\n",
    "- graph ladder score over all years for each country\n",
    "\n"
   ]
  },
  {
   "cell_type": "code",
   "execution_count": 1,
   "metadata": {},
   "outputs": [],
   "source": [
<<<<<<< HEAD
    "# testing\n",
    "# more testing, yay for testing, we love testing"
=======
    "#testing\n",
    "# HI"
>>>>>>> 25bbfef055bb20406a5297a0c025e6635023c93a
   ]
  },
  {
   "cell_type": "code",
   "execution_count": 2,
   "metadata": {},
   "outputs": [],
   "source": [
    "# Imports here\n",
    "import numpy as np\n",
    "import pandas as pd\n",
    "import seaborn as sns\n",
    "import matplotlib.pyplot as plt\n",
    "%matplotlib inline"
   ]
  },
  {
   "cell_type": "code",
   "execution_count": 3,
   "metadata": {
    "id": "GcLvUWrtgq5_"
   },
   "outputs": [],
   "source": [
    "# Use your designated path to import the data\n",
    "df = pd.read_csv('data/world-happiness-report.csv')\n",
    "df2021 = pd.read_csv('data/world-happiness-report-2021.csv')"
   ]
  },
  {
   "cell_type": "code",
   "execution_count": 5,
   "metadata": {
    "id": "XNNtDrYcjDkW"
   },
   "outputs": [
    {
     "data": {
      "text/html": [
       "<div>\n",
       "<style scoped>\n",
       "    .dataframe tbody tr th:only-of-type {\n",
       "        vertical-align: middle;\n",
       "    }\n",
       "\n",
       "    .dataframe tbody tr th {\n",
       "        vertical-align: top;\n",
       "    }\n",
       "\n",
       "    .dataframe thead th {\n",
       "        text-align: right;\n",
       "    }\n",
       "</style>\n",
       "<table border=\"1\" class=\"dataframe\">\n",
       "  <thead>\n",
       "    <tr style=\"text-align: right;\">\n",
       "      <th></th>\n",
       "      <th>Country name</th>\n",
       "      <th>Regional indicator</th>\n",
       "      <th>Ladder score</th>\n",
       "      <th>Standard error of ladder score</th>\n",
       "      <th>upperwhisker</th>\n",
       "      <th>lowerwhisker</th>\n",
       "      <th>Logged GDP per capita</th>\n",
       "      <th>Social support</th>\n",
       "      <th>Healthy life expectancy</th>\n",
       "      <th>Freedom to make life choices</th>\n",
       "      <th>...</th>\n",
       "      <th>Perceptions of corruption</th>\n",
       "      <th>Ladder score in Dystopia</th>\n",
       "      <th>Explained by: Log GDP per capita</th>\n",
       "      <th>Explained by: Social support</th>\n",
       "      <th>Explained by: Healthy life expectancy</th>\n",
       "      <th>Explained by: Freedom to make life choices</th>\n",
       "      <th>Explained by: Generosity</th>\n",
       "      <th>Explained by: Perceptions of corruption</th>\n",
       "      <th>Dystopia + residual</th>\n",
       "      <th>Year</th>\n",
       "    </tr>\n",
       "  </thead>\n",
       "  <tbody>\n",
       "    <tr>\n",
       "      <th>0</th>\n",
       "      <td>Finland</td>\n",
       "      <td>Western Europe</td>\n",
       "      <td>7.842</td>\n",
       "      <td>0.032</td>\n",
       "      <td>7.904</td>\n",
       "      <td>7.780</td>\n",
       "      <td>10.775</td>\n",
       "      <td>0.954</td>\n",
       "      <td>72.000</td>\n",
       "      <td>0.949</td>\n",
       "      <td>...</td>\n",
       "      <td>0.186</td>\n",
       "      <td>2.43</td>\n",
       "      <td>1.446</td>\n",
       "      <td>1.106</td>\n",
       "      <td>0.741</td>\n",
       "      <td>0.691</td>\n",
       "      <td>0.124</td>\n",
       "      <td>0.481</td>\n",
       "      <td>3.253</td>\n",
       "      <td>2021</td>\n",
       "    </tr>\n",
       "    <tr>\n",
       "      <th>1</th>\n",
       "      <td>Denmark</td>\n",
       "      <td>Western Europe</td>\n",
       "      <td>7.620</td>\n",
       "      <td>0.035</td>\n",
       "      <td>7.687</td>\n",
       "      <td>7.552</td>\n",
       "      <td>10.933</td>\n",
       "      <td>0.954</td>\n",
       "      <td>72.700</td>\n",
       "      <td>0.946</td>\n",
       "      <td>...</td>\n",
       "      <td>0.179</td>\n",
       "      <td>2.43</td>\n",
       "      <td>1.502</td>\n",
       "      <td>1.108</td>\n",
       "      <td>0.763</td>\n",
       "      <td>0.686</td>\n",
       "      <td>0.208</td>\n",
       "      <td>0.485</td>\n",
       "      <td>2.868</td>\n",
       "      <td>2021</td>\n",
       "    </tr>\n",
       "    <tr>\n",
       "      <th>2</th>\n",
       "      <td>Switzerland</td>\n",
       "      <td>Western Europe</td>\n",
       "      <td>7.571</td>\n",
       "      <td>0.036</td>\n",
       "      <td>7.643</td>\n",
       "      <td>7.500</td>\n",
       "      <td>11.117</td>\n",
       "      <td>0.942</td>\n",
       "      <td>74.400</td>\n",
       "      <td>0.919</td>\n",
       "      <td>...</td>\n",
       "      <td>0.292</td>\n",
       "      <td>2.43</td>\n",
       "      <td>1.566</td>\n",
       "      <td>1.079</td>\n",
       "      <td>0.816</td>\n",
       "      <td>0.653</td>\n",
       "      <td>0.204</td>\n",
       "      <td>0.413</td>\n",
       "      <td>2.839</td>\n",
       "      <td>2021</td>\n",
       "    </tr>\n",
       "    <tr>\n",
       "      <th>3</th>\n",
       "      <td>Iceland</td>\n",
       "      <td>Western Europe</td>\n",
       "      <td>7.554</td>\n",
       "      <td>0.059</td>\n",
       "      <td>7.670</td>\n",
       "      <td>7.438</td>\n",
       "      <td>10.878</td>\n",
       "      <td>0.983</td>\n",
       "      <td>73.000</td>\n",
       "      <td>0.955</td>\n",
       "      <td>...</td>\n",
       "      <td>0.673</td>\n",
       "      <td>2.43</td>\n",
       "      <td>1.482</td>\n",
       "      <td>1.172</td>\n",
       "      <td>0.772</td>\n",
       "      <td>0.698</td>\n",
       "      <td>0.293</td>\n",
       "      <td>0.170</td>\n",
       "      <td>2.967</td>\n",
       "      <td>2021</td>\n",
       "    </tr>\n",
       "    <tr>\n",
       "      <th>4</th>\n",
       "      <td>Netherlands</td>\n",
       "      <td>Western Europe</td>\n",
       "      <td>7.464</td>\n",
       "      <td>0.027</td>\n",
       "      <td>7.518</td>\n",
       "      <td>7.410</td>\n",
       "      <td>10.932</td>\n",
       "      <td>0.942</td>\n",
       "      <td>72.400</td>\n",
       "      <td>0.913</td>\n",
       "      <td>...</td>\n",
       "      <td>0.338</td>\n",
       "      <td>2.43</td>\n",
       "      <td>1.501</td>\n",
       "      <td>1.079</td>\n",
       "      <td>0.753</td>\n",
       "      <td>0.647</td>\n",
       "      <td>0.302</td>\n",
       "      <td>0.384</td>\n",
       "      <td>2.798</td>\n",
       "      <td>2021</td>\n",
       "    </tr>\n",
       "    <tr>\n",
       "      <th>...</th>\n",
       "      <td>...</td>\n",
       "      <td>...</td>\n",
       "      <td>...</td>\n",
       "      <td>...</td>\n",
       "      <td>...</td>\n",
       "      <td>...</td>\n",
       "      <td>...</td>\n",
       "      <td>...</td>\n",
       "      <td>...</td>\n",
       "      <td>...</td>\n",
       "      <td>...</td>\n",
       "      <td>...</td>\n",
       "      <td>...</td>\n",
       "      <td>...</td>\n",
       "      <td>...</td>\n",
       "      <td>...</td>\n",
       "      <td>...</td>\n",
       "      <td>...</td>\n",
       "      <td>...</td>\n",
       "      <td>...</td>\n",
       "      <td>...</td>\n",
       "    </tr>\n",
       "    <tr>\n",
       "      <th>144</th>\n",
       "      <td>Lesotho</td>\n",
       "      <td>Sub-Saharan Africa</td>\n",
       "      <td>3.512</td>\n",
       "      <td>0.120</td>\n",
       "      <td>3.748</td>\n",
       "      <td>3.276</td>\n",
       "      <td>7.926</td>\n",
       "      <td>0.787</td>\n",
       "      <td>48.700</td>\n",
       "      <td>0.715</td>\n",
       "      <td>...</td>\n",
       "      <td>0.915</td>\n",
       "      <td>2.43</td>\n",
       "      <td>0.451</td>\n",
       "      <td>0.731</td>\n",
       "      <td>0.007</td>\n",
       "      <td>0.405</td>\n",
       "      <td>0.103</td>\n",
       "      <td>0.015</td>\n",
       "      <td>1.800</td>\n",
       "      <td>2021</td>\n",
       "    </tr>\n",
       "    <tr>\n",
       "      <th>145</th>\n",
       "      <td>Botswana</td>\n",
       "      <td>Sub-Saharan Africa</td>\n",
       "      <td>3.467</td>\n",
       "      <td>0.074</td>\n",
       "      <td>3.611</td>\n",
       "      <td>3.322</td>\n",
       "      <td>9.782</td>\n",
       "      <td>0.784</td>\n",
       "      <td>59.269</td>\n",
       "      <td>0.824</td>\n",
       "      <td>...</td>\n",
       "      <td>0.801</td>\n",
       "      <td>2.43</td>\n",
       "      <td>1.099</td>\n",
       "      <td>0.724</td>\n",
       "      <td>0.340</td>\n",
       "      <td>0.539</td>\n",
       "      <td>0.027</td>\n",
       "      <td>0.088</td>\n",
       "      <td>0.648</td>\n",
       "      <td>2021</td>\n",
       "    </tr>\n",
       "    <tr>\n",
       "      <th>146</th>\n",
       "      <td>Rwanda</td>\n",
       "      <td>Sub-Saharan Africa</td>\n",
       "      <td>3.415</td>\n",
       "      <td>0.068</td>\n",
       "      <td>3.548</td>\n",
       "      <td>3.282</td>\n",
       "      <td>7.676</td>\n",
       "      <td>0.552</td>\n",
       "      <td>61.400</td>\n",
       "      <td>0.897</td>\n",
       "      <td>...</td>\n",
       "      <td>0.167</td>\n",
       "      <td>2.43</td>\n",
       "      <td>0.364</td>\n",
       "      <td>0.202</td>\n",
       "      <td>0.407</td>\n",
       "      <td>0.627</td>\n",
       "      <td>0.227</td>\n",
       "      <td>0.493</td>\n",
       "      <td>1.095</td>\n",
       "      <td>2021</td>\n",
       "    </tr>\n",
       "    <tr>\n",
       "      <th>147</th>\n",
       "      <td>Zimbabwe</td>\n",
       "      <td>Sub-Saharan Africa</td>\n",
       "      <td>3.145</td>\n",
       "      <td>0.058</td>\n",
       "      <td>3.259</td>\n",
       "      <td>3.030</td>\n",
       "      <td>7.943</td>\n",
       "      <td>0.750</td>\n",
       "      <td>56.201</td>\n",
       "      <td>0.677</td>\n",
       "      <td>...</td>\n",
       "      <td>0.821</td>\n",
       "      <td>2.43</td>\n",
       "      <td>0.457</td>\n",
       "      <td>0.649</td>\n",
       "      <td>0.243</td>\n",
       "      <td>0.359</td>\n",
       "      <td>0.157</td>\n",
       "      <td>0.075</td>\n",
       "      <td>1.205</td>\n",
       "      <td>2021</td>\n",
       "    </tr>\n",
       "    <tr>\n",
       "      <th>148</th>\n",
       "      <td>Afghanistan</td>\n",
       "      <td>South Asia</td>\n",
       "      <td>2.523</td>\n",
       "      <td>0.038</td>\n",
       "      <td>2.596</td>\n",
       "      <td>2.449</td>\n",
       "      <td>7.695</td>\n",
       "      <td>0.463</td>\n",
       "      <td>52.493</td>\n",
       "      <td>0.382</td>\n",
       "      <td>...</td>\n",
       "      <td>0.924</td>\n",
       "      <td>2.43</td>\n",
       "      <td>0.370</td>\n",
       "      <td>0.000</td>\n",
       "      <td>0.126</td>\n",
       "      <td>0.000</td>\n",
       "      <td>0.122</td>\n",
       "      <td>0.010</td>\n",
       "      <td>1.895</td>\n",
       "      <td>2021</td>\n",
       "    </tr>\n",
       "  </tbody>\n",
       "</table>\n",
       "<p>149 rows × 21 columns</p>\n",
       "</div>"
      ],
      "text/plain": [
       "    Country name  Regional indicator  Ladder score  \\\n",
       "0        Finland      Western Europe         7.842   \n",
       "1        Denmark      Western Europe         7.620   \n",
       "2    Switzerland      Western Europe         7.571   \n",
       "3        Iceland      Western Europe         7.554   \n",
       "4    Netherlands      Western Europe         7.464   \n",
       "..           ...                 ...           ...   \n",
       "144      Lesotho  Sub-Saharan Africa         3.512   \n",
       "145     Botswana  Sub-Saharan Africa         3.467   \n",
       "146       Rwanda  Sub-Saharan Africa         3.415   \n",
       "147     Zimbabwe  Sub-Saharan Africa         3.145   \n",
       "148  Afghanistan          South Asia         2.523   \n",
       "\n",
       "     Standard error of ladder score  upperwhisker  lowerwhisker  \\\n",
       "0                             0.032         7.904         7.780   \n",
       "1                             0.035         7.687         7.552   \n",
       "2                             0.036         7.643         7.500   \n",
       "3                             0.059         7.670         7.438   \n",
       "4                             0.027         7.518         7.410   \n",
       "..                              ...           ...           ...   \n",
       "144                           0.120         3.748         3.276   \n",
       "145                           0.074         3.611         3.322   \n",
       "146                           0.068         3.548         3.282   \n",
       "147                           0.058         3.259         3.030   \n",
       "148                           0.038         2.596         2.449   \n",
       "\n",
       "     Logged GDP per capita  Social support  Healthy life expectancy  \\\n",
       "0                   10.775           0.954                   72.000   \n",
       "1                   10.933           0.954                   72.700   \n",
       "2                   11.117           0.942                   74.400   \n",
       "3                   10.878           0.983                   73.000   \n",
       "4                   10.932           0.942                   72.400   \n",
       "..                     ...             ...                      ...   \n",
       "144                  7.926           0.787                   48.700   \n",
       "145                  9.782           0.784                   59.269   \n",
       "146                  7.676           0.552                   61.400   \n",
       "147                  7.943           0.750                   56.201   \n",
       "148                  7.695           0.463                   52.493   \n",
       "\n",
       "     Freedom to make life choices  ...  Perceptions of corruption  \\\n",
       "0                           0.949  ...                      0.186   \n",
       "1                           0.946  ...                      0.179   \n",
       "2                           0.919  ...                      0.292   \n",
       "3                           0.955  ...                      0.673   \n",
       "4                           0.913  ...                      0.338   \n",
       "..                            ...  ...                        ...   \n",
       "144                         0.715  ...                      0.915   \n",
       "145                         0.824  ...                      0.801   \n",
       "146                         0.897  ...                      0.167   \n",
       "147                         0.677  ...                      0.821   \n",
       "148                         0.382  ...                      0.924   \n",
       "\n",
       "     Ladder score in Dystopia  Explained by: Log GDP per capita  \\\n",
       "0                        2.43                             1.446   \n",
       "1                        2.43                             1.502   \n",
       "2                        2.43                             1.566   \n",
       "3                        2.43                             1.482   \n",
       "4                        2.43                             1.501   \n",
       "..                        ...                               ...   \n",
       "144                      2.43                             0.451   \n",
       "145                      2.43                             1.099   \n",
       "146                      2.43                             0.364   \n",
       "147                      2.43                             0.457   \n",
       "148                      2.43                             0.370   \n",
       "\n",
       "     Explained by: Social support  Explained by: Healthy life expectancy  \\\n",
       "0                           1.106                                  0.741   \n",
       "1                           1.108                                  0.763   \n",
       "2                           1.079                                  0.816   \n",
       "3                           1.172                                  0.772   \n",
       "4                           1.079                                  0.753   \n",
       "..                            ...                                    ...   \n",
       "144                         0.731                                  0.007   \n",
       "145                         0.724                                  0.340   \n",
       "146                         0.202                                  0.407   \n",
       "147                         0.649                                  0.243   \n",
       "148                         0.000                                  0.126   \n",
       "\n",
       "     Explained by: Freedom to make life choices  Explained by: Generosity  \\\n",
       "0                                         0.691                     0.124   \n",
       "1                                         0.686                     0.208   \n",
       "2                                         0.653                     0.204   \n",
       "3                                         0.698                     0.293   \n",
       "4                                         0.647                     0.302   \n",
       "..                                          ...                       ...   \n",
       "144                                       0.405                     0.103   \n",
       "145                                       0.539                     0.027   \n",
       "146                                       0.627                     0.227   \n",
       "147                                       0.359                     0.157   \n",
       "148                                       0.000                     0.122   \n",
       "\n",
       "     Explained by: Perceptions of corruption  Dystopia + residual  Year  \n",
       "0                                      0.481                3.253  2021  \n",
       "1                                      0.485                2.868  2021  \n",
       "2                                      0.413                2.839  2021  \n",
       "3                                      0.170                2.967  2021  \n",
       "4                                      0.384                2.798  2021  \n",
       "..                                       ...                  ...   ...  \n",
       "144                                    0.015                1.800  2021  \n",
       "145                                    0.088                0.648  2021  \n",
       "146                                    0.493                1.095  2021  \n",
       "147                                    0.075                1.205  2021  \n",
       "148                                    0.010                1.895  2021  \n",
       "\n",
       "[149 rows x 21 columns]"
      ]
     },
     "execution_count": 5,
     "metadata": {},
     "output_type": "execute_result"
    }
   ],
   "source": [
    "# add column for year on the data set for 2021\n",
    "df2021['Year'] = 2021"
   ]
  },
  {
   "cell_type": "code",
   "execution_count": null,
   "metadata": {
    "colab": {
     "base_uri": "https://localhost:8080/"
    },
    "id": "WbVio4Vdjv1S",
    "outputId": "17e85b75-048a-4f2a-b37d-19e69cca1290"
   },
   "outputs": [
    {
     "data": {
      "text/plain": [
       "['Country name',\n",
       " 'year',\n",
       " 'Life Ladder',\n",
       " 'Log GDP per capita',\n",
       " 'Social support',\n",
       " 'Healthy life expectancy at birth',\n",
       " 'Freedom to make life choices',\n",
       " 'Generosity',\n",
       " 'Perceptions of corruption',\n",
       " 'Positive affect',\n",
       " 'Negative affect']"
      ]
     },
     "execution_count": 5,
     "metadata": {
      "tags": []
     },
     "output_type": "execute_result"
    }
   ],
   "source": [
    "list(df.columns)"
   ]
  },
  {
   "cell_type": "code",
   "execution_count": null,
   "metadata": {
    "colab": {
     "base_uri": "https://localhost:8080/"
    },
    "id": "52ozlbbUj2u-",
    "outputId": "77ac4454-923f-4853-f565-d264b5b90ed2"
   },
   "outputs": [
    {
     "data": {
      "text/plain": [
       "['Country name',\n",
       " 'Regional indicator',\n",
       " 'Ladder score',\n",
       " 'Standard error of ladder score',\n",
       " 'upperwhisker',\n",
       " 'lowerwhisker',\n",
       " 'Logged GDP per capita',\n",
       " 'Social support',\n",
       " 'Healthy life expectancy',\n",
       " 'Freedom to make life choices',\n",
       " 'Generosity',\n",
       " 'Perceptions of corruption',\n",
       " 'Ladder score in Dystopia',\n",
       " 'Explained by: Log GDP per capita',\n",
       " 'Explained by: Social support',\n",
       " 'Explained by: Healthy life expectancy',\n",
       " 'Explained by: Freedom to make life choices',\n",
       " 'Explained by: Generosity',\n",
       " 'Explained by: Perceptions of corruption',\n",
       " 'Dystopia + residual',\n",
       " 'Year']"
      ]
     },
     "execution_count": 6,
     "metadata": {
      "tags": []
     },
     "output_type": "execute_result"
    }
   ],
   "source": [
    "list(df2021.columns)"
   ]
  },
  {
   "cell_type": "code",
   "execution_count": null,
   "metadata": {
    "id": "PRgK2Ypu00y6"
   },
   "outputs": [],
   "source": [
    "# drop unnecessary columns\n",
    "df2021 = df2021.drop(columns=['Standard error of ladder score','upperwhisker', 'lowerwhisker',\n",
    "       'Ladder score in Dystopia',\n",
    "       'Explained by: Log GDP per capita', 'Explained by: Social support',\n",
    "       'Explained by: Healthy life expectancy',\n",
    "       'Explained by: Freedom to make life choices',\n",
    "       'Explained by: Generosity', 'Explained by: Perceptions of corruption',\n",
    "       'Dystopia + residual'], axis=1)\n",
    "df = df.drop(columns=['Positive affect','Negative affect'], axis=1)"
   ]
  },
  {
   "cell_type": "code",
   "execution_count": null,
   "metadata": {
    "id": "elof6wyT4Ju5"
   },
   "outputs": [],
   "source": [
    "# rename columns so that the data in the two files can be compared with by the same variable names\n",
    "df2021 = df2021.rename(columns = {'Logged GDP per capita':'Log GDP per capita'} )\n",
    "df = df.rename(columns= {'year':'Year', 'Life Ladder':'Ladder score', 'Healthy life expectancy at birth' : 'Healthy life expectancy'}) #we assume that healthy life expectancy at birth is the same as healthy life expectancy "
   ]
  },
  {
   "cell_type": "code",
   "execution_count": null,
   "metadata": {
    "colab": {
     "base_uri": "https://localhost:8080/"
    },
    "id": "QIfDR3J7lMnO",
    "outputId": "d375aae0-8741-4e41-fe7a-227e7d25d890"
   },
   "outputs": [
    {
     "data": {
      "text/plain": [
       "array([2008, 2009, 2010, 2011, 2012, 2013, 2014, 2015, 2016, 2017, 2018,\n",
       "       2019, 2007, 2020, 2006, 2005])"
      ]
     },
     "execution_count": 9,
     "metadata": {
      "tags": []
     },
     "output_type": "execute_result"
    }
   ],
   "source": [
    "# add regional indicator to data set for 2008-2020\n",
    "df_with_regions = pd.merge(df, df2021[['Country name','Regional indicator']], on = ['Country name'])\n",
    "# df_with_regions\n",
    "df_with_regions[\"Year\"].unique() #does not include 2021"
   ]
  },
  {
   "cell_type": "code",
   "execution_count": null,
   "metadata": {
    "colab": {
     "base_uri": "https://localhost:8080/"
    },
    "id": "EYAh8E0s8gvr",
    "outputId": "addd6a33-60bd-4f22-8cf0-4d14ef597594"
   },
   "outputs": [
    {
     "data": {
      "text/plain": [
       "array([2008, 2019, 2018, 2017, 2016, 2015, 2021, 2013, 2012, 2011, 2010,\n",
       "       2009, 2014, 2020, 2007, 2006, 2005])"
      ]
     },
     "execution_count": 48,
     "metadata": {
      "tags": []
     },
     "output_type": "execute_result"
    }
   ],
   "source": [
    "# combine data sets to create one data frame for 2008-2021\n",
    "df_all = pd.concat([df_with_regions, df2021], ignore_index=True).sort_values(by=\"Country name\", ascending=True)\n",
    "df_all[\"Year\"].unique()"
   ]
  },
  {
   "cell_type": "code",
   "execution_count": null,
   "metadata": {
    "id": "cYO4EWtaJbIe"
   },
   "outputs": [],
   "source": [
    "# reorder columns\n",
    "df_all = df_all[['Country name',\n",
    "                 'Regional indicator',\n",
    "                 'Year',\n",
    "                 'Ladder score',\n",
    "                 'Log GDP per capita',\n",
    "                 'Healthy life expectancy',\n",
    "                 'Social support',\n",
    "                 'Freedom to make life choices',\n",
    "                 'Generosity',\n",
    "                 'Perceptions of corruption']]"
   ]
  },
  {
   "cell_type": "code",
   "execution_count": null,
   "metadata": {
    "colab": {
     "base_uri": "https://localhost:8080/"
    },
    "id": "OImzLbLSK2ft",
    "outputId": "3a3c5c21-3ccc-43ab-9bf7-ae2d951e906f"
   },
   "outputs": [
    {
     "data": {
      "text/plain": [
       "['Country name',\n",
       " 'Regional indicator',\n",
       " 'Year',\n",
       " 'Ladder score',\n",
       " 'Log GDP per capita',\n",
       " 'Healthy life expectancy',\n",
       " 'Social support',\n",
       " 'Freedom to make life choices',\n",
       " 'Generosity',\n",
       " 'Perceptions of corruption']"
      ]
     },
     "execution_count": 12,
     "metadata": {
      "tags": []
     },
     "output_type": "execute_result"
    }
   ],
   "source": [
    "list(df_all.columns)"
   ]
  },
  {
   "cell_type": "code",
   "execution_count": null,
   "metadata": {
    "colab": {
     "base_uri": "https://localhost:8080/",
     "height": 282
    },
    "id": "wsBS-roOmj1F",
    "outputId": "e0333b3a-9e92-41b6-f26f-861f32c1a6f3"
   },
   "outputs": [
    {
     "data": {
      "text/plain": [
       "<matplotlib.axes._subplots.AxesSubplot at 0x7feca3a4cc50>"
      ]
     },
     "execution_count": 13,
     "metadata": {
      "tags": []
     },
     "output_type": "execute_result"
    },
    {
     "data": {
      "image/png": "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\n",
      "text/plain": [
       "<Figure size 432x288 with 1 Axes>"
      ]
     },
     "metadata": {
      "needs_background": "light",
      "tags": []
     },
     "output_type": "display_data"
    }
   ],
   "source": [
    "# average ladder score by region\n",
    "df_all.groupby('Regional indicator')['Ladder score'].mean().plot.barh()"
   ]
  },
  {
   "cell_type": "code",
   "execution_count": null,
   "metadata": {
    "colab": {
     "base_uri": "https://localhost:8080/",
     "height": 282
    },
    "id": "nCUymLhmmJo9",
    "outputId": "6e1759cd-48f8-4f31-fba5-7f13fb3f019c"
   },
   "outputs": [
    {
     "data": {
      "text/plain": [
       "<matplotlib.axes._subplots.AxesSubplot at 0x7feca3280fd0>"
      ]
     },
     "execution_count": 14,
     "metadata": {
      "tags": []
     },
     "output_type": "execute_result"
    },
    {
     "data": {
      "image/png": "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\n",
      "text/plain": [
       "<Figure size 432x288 with 1 Axes>"
      ]
     },
     "metadata": {
      "needs_background": "light",
      "tags": []
     },
     "output_type": "display_data"
    }
   ],
   "source": [
    "#pre-covid (2008-2019) average ladder score by region\n",
    "df_pre_covid = df_all[df_all[\"Year\"] < 2020].groupby('Regional indicator')['Ladder score'].mean().plot.barh()\n",
    "df_pre_covid"
   ]
  },
  {
   "cell_type": "code",
   "execution_count": null,
   "metadata": {
    "colab": {
     "base_uri": "https://localhost:8080/",
     "height": 282
    },
    "id": "MxabO6tFAsjr",
    "outputId": "9d2de1c6-3403-4d03-cf63-4128d4bdf4bf"
   },
   "outputs": [
    {
     "data": {
      "text/plain": [
       "<matplotlib.axes._subplots.AxesSubplot at 0x7feca2216cd0>"
      ]
     },
     "execution_count": 15,
     "metadata": {
      "tags": []
     },
     "output_type": "execute_result"
    },
    {
     "data": {
      "image/png": "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\n",
      "text/plain": [
       "<Figure size 432x288 with 1 Axes>"
      ]
     },
     "metadata": {
      "needs_background": "light",
      "tags": []
     },
     "output_type": "display_data"
    }
   ],
   "source": [
    "#post-covid (2020-2021) average ladder score by region\n",
    "df_post_covid = df_all[df_all[\"Year\"] >= 2020].groupby('Regional indicator')['Ladder score'].mean().plot.barh()\n",
    "df_post_covid"
   ]
  },
  {
   "cell_type": "code",
   "execution_count": null,
   "metadata": {
    "id": "ZAkTMqMmJIND"
   },
   "outputs": [],
   "source": [
    "# create pivot table for countries\n",
    "df_pivot_country = df_all.pivot(\"Year\", \"Country name\", \"Ladder score\")\n",
    "sns.lineplot(data=df_pivot_country)"
   ]
  },
  {
   "cell_type": "code",
   "execution_count": null,
   "metadata": {
    "colab": {
     "base_uri": "https://localhost:8080/",
     "height": 419
    },
    "id": "DumjMbZMOaV5",
    "outputId": "5ee7bd0f-5228-4d46-9aa5-4a47b138ebca"
   },
   "outputs": [
    {
     "data": {
      "text/html": [
       "<div>\n",
       "<style scoped>\n",
       "    .dataframe tbody tr th:only-of-type {\n",
       "        vertical-align: middle;\n",
       "    }\n",
       "\n",
       "    .dataframe tbody tr th {\n",
       "        vertical-align: top;\n",
       "    }\n",
       "\n",
       "    .dataframe thead th {\n",
       "        text-align: right;\n",
       "    }\n",
       "</style>\n",
       "<table border=\"1\" class=\"dataframe\">\n",
       "  <thead>\n",
       "    <tr style=\"text-align: right;\">\n",
       "      <th></th>\n",
       "      <th>Regional indicator</th>\n",
       "      <th>Year</th>\n",
       "      <th>Ladder score</th>\n",
       "    </tr>\n",
       "  </thead>\n",
       "  <tbody>\n",
       "    <tr>\n",
       "      <th>0</th>\n",
       "      <td>Central and Eastern Europe</td>\n",
       "      <td>2005</td>\n",
       "      <td>5.567250</td>\n",
       "    </tr>\n",
       "    <tr>\n",
       "      <th>1</th>\n",
       "      <td>Central and Eastern Europe</td>\n",
       "      <td>2006</td>\n",
       "      <td>5.422200</td>\n",
       "    </tr>\n",
       "    <tr>\n",
       "      <th>2</th>\n",
       "      <td>Central and Eastern Europe</td>\n",
       "      <td>2007</td>\n",
       "      <td>5.152267</td>\n",
       "    </tr>\n",
       "    <tr>\n",
       "      <th>3</th>\n",
       "      <td>Central and Eastern Europe</td>\n",
       "      <td>2008</td>\n",
       "      <td>5.418250</td>\n",
       "    </tr>\n",
       "    <tr>\n",
       "      <th>4</th>\n",
       "      <td>Central and Eastern Europe</td>\n",
       "      <td>2009</td>\n",
       "      <td>5.180000</td>\n",
       "    </tr>\n",
       "    <tr>\n",
       "      <th>...</th>\n",
       "      <td>...</td>\n",
       "      <td>...</td>\n",
       "      <td>...</td>\n",
       "    </tr>\n",
       "    <tr>\n",
       "      <th>162</th>\n",
       "      <td>Western Europe</td>\n",
       "      <td>2017</td>\n",
       "      <td>6.891900</td>\n",
       "    </tr>\n",
       "    <tr>\n",
       "      <th>163</th>\n",
       "      <td>Western Europe</td>\n",
       "      <td>2018</td>\n",
       "      <td>6.898050</td>\n",
       "    </tr>\n",
       "    <tr>\n",
       "      <th>164</th>\n",
       "      <td>Western Europe</td>\n",
       "      <td>2019</td>\n",
       "      <td>6.940905</td>\n",
       "    </tr>\n",
       "    <tr>\n",
       "      <th>165</th>\n",
       "      <td>Western Europe</td>\n",
       "      <td>2020</td>\n",
       "      <td>6.919421</td>\n",
       "    </tr>\n",
       "    <tr>\n",
       "      <th>166</th>\n",
       "      <td>Western Europe</td>\n",
       "      <td>2021</td>\n",
       "      <td>6.914905</td>\n",
       "    </tr>\n",
       "  </tbody>\n",
       "</table>\n",
       "<p>167 rows × 3 columns</p>\n",
       "</div>"
      ],
      "text/plain": [
       "             Regional indicator  Year  Ladder score\n",
       "0    Central and Eastern Europe  2005      5.567250\n",
       "1    Central and Eastern Europe  2006      5.422200\n",
       "2    Central and Eastern Europe  2007      5.152267\n",
       "3    Central and Eastern Europe  2008      5.418250\n",
       "4    Central and Eastern Europe  2009      5.180000\n",
       "..                          ...   ...           ...\n",
       "162              Western Europe  2017      6.891900\n",
       "163              Western Europe  2018      6.898050\n",
       "164              Western Europe  2019      6.940905\n",
       "165              Western Europe  2020      6.919421\n",
       "166              Western Europe  2021      6.914905\n",
       "\n",
       "[167 rows x 3 columns]"
      ]
     },
     "execution_count": 76,
     "metadata": {
      "tags": []
     },
     "output_type": "execute_result"
    }
   ],
   "source": [
    "df_region = df_all.groupby(['Regional indicator', 'Year'])['Ladder score'].mean().to_frame().reset_index()\n",
    "df_region"
   ]
  },
  {
   "cell_type": "code",
   "execution_count": null,
   "metadata": {
    "colab": {
     "base_uri": "https://localhost:8080/",
     "height": 296
    },
    "id": "bID6tqMkRy75",
    "outputId": "339cc6a5-4deb-4d2c-d76d-26ec860f69ad"
   },
   "outputs": [
    {
     "data": {
      "text/plain": [
       "<matplotlib.axes._subplots.AxesSubplot at 0x7fec91613690>"
      ]
     },
     "execution_count": 77,
     "metadata": {
      "tags": []
     },
     "output_type": "execute_result"
    },
    {
     "data": {
      "image/png": "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\n",
      "text/plain": [
       "<Figure size 432x288 with 1 Axes>"
      ]
     },
     "metadata": {
      "needs_background": "light",
      "tags": []
     },
     "output_type": "display_data"
    }
   ],
   "source": [
    "# create pivot table for regions\n",
    "df_pivot_region = df_region.pivot(\"Year\", \"Regional indicator\", \"Ladder score\")\n",
    "sns.lineplot(data=df_pivot_region)"
   ]
  },
  {
   "cell_type": "code",
   "execution_count": null,
   "metadata": {
    "colab": {
     "base_uri": "https://localhost:8080/"
    },
    "id": "PSaaOKMduvK9",
    "outputId": "137911f0-8e07-442e-ba67-3d17f2ee0ed0"
   },
   "outputs": [
    {
     "data": {
      "text/plain": [
       "Country name\n",
       "Denmark        7.676625\n",
       "Finland        7.614643\n",
       "Switzerland    7.550364\n",
       "Norway         7.501455\n",
       "Netherlands    7.466133\n",
       "                 ...   \n",
       "Tanzania       3.692687\n",
       "Rwanda         3.636000\n",
       "Togo           3.610200\n",
       "Burundi        3.586000\n",
       "Afghanistan    3.512231\n",
       "Name: Ladder score, Length: 149, dtype: float64"
      ]
     },
     "execution_count": 16,
     "metadata": {
      "tags": []
     },
     "output_type": "execute_result"
    }
   ],
   "source": [
    "# sort countries by average ladder score over all years\n",
    "df_all_ladder = df_all.groupby('Country name')['Ladder score'].mean().sort_values(ascending=False)\n",
    "df_all_ladder"
   ]
  },
  {
   "cell_type": "code",
   "execution_count": null,
   "metadata": {
    "colab": {
     "base_uri": "https://localhost:8080/",
     "height": 296
    },
    "id": "fWCq_4G0oA3K",
    "outputId": "feff5ef5-c685-4986-d8c9-5d984846111f"
   },
   "outputs": [
    {
     "data": {
      "text/plain": [
       "Text(0, 0.5, 'Ladder score')"
      ]
     },
     "execution_count": 17,
     "metadata": {
      "tags": []
     },
     "output_type": "execute_result"
    },
    {
     "data": {
      "image/png": "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\n",
      "text/plain": [
       "<Figure size 432x288 with 1 Axes>"
      ]
     },
     "metadata": {
      "needs_background": "light",
      "tags": []
     },
     "output_type": "display_data"
    }
   ],
   "source": [
    "# compare two factors\n",
    "\n",
    "mydata = df_all[[\"Social support\", \"Ladder score\"]].dropna(how=\"any\")\n",
    "vals = mydata.values\n",
    "plt.scatter(vals[:, 0], vals[:, 1])\n",
    "plt.xlabel(\"Social support\")\n",
    "plt.ylabel(\"Ladder score\")"
   ]
  },
  {
   "cell_type": "code",
   "execution_count": null,
   "metadata": {
    "colab": {
     "base_uri": "https://localhost:8080/",
     "height": 399
    },
    "id": "Iaq66jsfyV3n",
    "outputId": "ecb7c9d1-ebe6-4691-9cf3-24f0df23b2c8"
   },
   "outputs": [
    {
     "data": {
      "text/html": [
       "<div>\n",
       "<style scoped>\n",
       "    .dataframe tbody tr th:only-of-type {\n",
       "        vertical-align: middle;\n",
       "    }\n",
       "\n",
       "    .dataframe tbody tr th {\n",
       "        vertical-align: top;\n",
       "    }\n",
       "\n",
       "    .dataframe thead th {\n",
       "        text-align: right;\n",
       "    }\n",
       "</style>\n",
       "<table border=\"1\" class=\"dataframe\">\n",
       "  <thead>\n",
       "    <tr style=\"text-align: right;\">\n",
       "      <th></th>\n",
       "      <th>Year</th>\n",
       "      <th>Ladder score</th>\n",
       "      <th>Log GDP per capita</th>\n",
       "      <th>Healthy life expectancy</th>\n",
       "      <th>Social support</th>\n",
       "      <th>Freedom to make life choices</th>\n",
       "      <th>Generosity</th>\n",
       "      <th>Perceptions of corruption</th>\n",
       "    </tr>\n",
       "  </thead>\n",
       "  <tbody>\n",
       "    <tr>\n",
       "      <th>Year</th>\n",
       "      <td>1.000000</td>\n",
       "      <td>0.038226</td>\n",
       "      <td>0.071433</td>\n",
       "      <td>0.166578</td>\n",
       "      <td>-0.004543</td>\n",
       "      <td>0.237245</td>\n",
       "      <td>-0.044313</td>\n",
       "      <td>-0.087272</td>\n",
       "    </tr>\n",
       "    <tr>\n",
       "      <th>Ladder score</th>\n",
       "      <td>0.038226</td>\n",
       "      <td>1.000000</td>\n",
       "      <td>0.789687</td>\n",
       "      <td>0.744895</td>\n",
       "      <td>0.710707</td>\n",
       "      <td>0.522491</td>\n",
       "      <td>0.181507</td>\n",
       "      <td>-0.440817</td>\n",
       "    </tr>\n",
       "    <tr>\n",
       "      <th>Log GDP per capita</th>\n",
       "      <td>0.071433</td>\n",
       "      <td>0.789687</td>\n",
       "      <td>1.000000</td>\n",
       "      <td>0.847429</td>\n",
       "      <td>0.704224</td>\n",
       "      <td>0.360170</td>\n",
       "      <td>-0.016865</td>\n",
       "      <td>-0.349512</td>\n",
       "    </tr>\n",
       "    <tr>\n",
       "      <th>Healthy life expectancy</th>\n",
       "      <td>0.166578</td>\n",
       "      <td>0.744895</td>\n",
       "      <td>0.847429</td>\n",
       "      <td>1.000000</td>\n",
       "      <td>0.615175</td>\n",
       "      <td>0.390519</td>\n",
       "      <td>0.009876</td>\n",
       "      <td>-0.336120</td>\n",
       "    </tr>\n",
       "    <tr>\n",
       "      <th>Social support</th>\n",
       "      <td>-0.004543</td>\n",
       "      <td>0.710707</td>\n",
       "      <td>0.704224</td>\n",
       "      <td>0.615175</td>\n",
       "      <td>1.000000</td>\n",
       "      <td>0.417165</td>\n",
       "      <td>0.059964</td>\n",
       "      <td>-0.228886</td>\n",
       "    </tr>\n",
       "    <tr>\n",
       "      <th>Freedom to make life choices</th>\n",
       "      <td>0.237245</td>\n",
       "      <td>0.522491</td>\n",
       "      <td>0.360170</td>\n",
       "      <td>0.390519</td>\n",
       "      <td>0.417165</td>\n",
       "      <td>1.000000</td>\n",
       "      <td>0.321830</td>\n",
       "      <td>-0.490298</td>\n",
       "    </tr>\n",
       "    <tr>\n",
       "      <th>Generosity</th>\n",
       "      <td>-0.044313</td>\n",
       "      <td>0.181507</td>\n",
       "      <td>-0.016865</td>\n",
       "      <td>0.009876</td>\n",
       "      <td>0.059964</td>\n",
       "      <td>0.321830</td>\n",
       "      <td>1.000000</td>\n",
       "      <td>-0.281714</td>\n",
       "    </tr>\n",
       "    <tr>\n",
       "      <th>Perceptions of corruption</th>\n",
       "      <td>-0.087272</td>\n",
       "      <td>-0.440817</td>\n",
       "      <td>-0.349512</td>\n",
       "      <td>-0.336120</td>\n",
       "      <td>-0.228886</td>\n",
       "      <td>-0.490298</td>\n",
       "      <td>-0.281714</td>\n",
       "      <td>1.000000</td>\n",
       "    </tr>\n",
       "  </tbody>\n",
       "</table>\n",
       "</div>"
      ],
      "text/plain": [
       "                                  Year  ...  Perceptions of corruption\n",
       "Year                          1.000000  ...                  -0.087272\n",
       "Ladder score                  0.038226  ...                  -0.440817\n",
       "Log GDP per capita            0.071433  ...                  -0.349512\n",
       "Healthy life expectancy       0.166578  ...                  -0.336120\n",
       "Social support               -0.004543  ...                  -0.228886\n",
       "Freedom to make life choices  0.237245  ...                  -0.490298\n",
       "Generosity                   -0.044313  ...                  -0.281714\n",
       "Perceptions of corruption    -0.087272  ...                   1.000000\n",
       "\n",
       "[8 rows x 8 columns]"
      ]
     },
     "execution_count": 18,
     "metadata": {
      "tags": []
     },
     "output_type": "execute_result"
    }
   ],
   "source": [
    "# table of values for correlation\n",
    "df_all.corr()"
   ]
  },
  {
   "cell_type": "code",
   "execution_count": null,
   "metadata": {
    "colab": {
     "base_uri": "https://localhost:8080/",
     "height": 623
    },
    "id": "i0zoqDZdy4YT",
    "outputId": "ac306cf2-9064-4bf9-e419-65fee813d33d"
   },
   "outputs": [
    {
     "data": {
      "image/png": "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\n",
      "text/plain": [
       "<Figure size 576x576 with 2 Axes>"
      ]
     },
     "metadata": {
      "needs_background": "light",
      "tags": []
     },
     "output_type": "display_data"
    }
   ],
   "source": [
    "#heat map for correlation\n",
    "f,ax=plt.subplots(figsize=(8,8))\n",
    "corrMatrix = df_all.corr()\n",
    "Heatmap = sns.heatmap(corrMatrix, annot=True, linewidth=.5,fmt='.2f',ax=ax)\n",
    "plt.show()\n"
   ]
  },
  {
   "cell_type": "code",
   "execution_count": null,
   "metadata": {
    "id": "ZelVTdmyNh2v"
   },
   "outputs": [],
   "source": [
    "# ! pip install https://github.com/pandas-profiling/pandas-profiling/archive/master.zip\n",
    "# from pandas_profiling import ProfileReport"
   ]
  },
  {
   "cell_type": "code",
   "execution_count": null,
   "metadata": {
    "id": "RfVPnyIDO77w"
   },
   "outputs": [],
   "source": [
    "# my_report = ProfileReport(df_all, title=\"My Report - Testing\", html={'style':{'full width':True}})\n",
    "# my_report.to_notebook_iframe()\n",
    "# my_report.to_file(output_file=\"My Report - Testing.html\")"
   ]
  }
 ],
 "metadata": {
  "colab": {
   "collapsed_sections": [],
   "name": "happiness analysis.ipynb",
   "provenance": []
  },
  "kernelspec": {
   "display_name": "Python 3",
   "language": "python",
   "name": "python3"
  },
  "language_info": {
   "codemirror_mode": {
    "name": "ipython",
    "version": 3
   },
   "file_extension": ".py",
   "mimetype": "text/x-python",
   "name": "python",
   "nbconvert_exporter": "python",
   "pygments_lexer": "ipython3",
   "version": "3.8.10"
  }
 },
 "nbformat": 4,
 "nbformat_minor": 1
}
