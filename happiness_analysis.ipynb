{
 "cells": [
  {
   "cell_type": "markdown",
   "metadata": {
    "id": "eA9oyxz-JyUT"
   },
   "source": [
    "# *to do:*\n",
    "\n",
    "- [define factors](https://happiness-report.s3.amazonaws.com/2021/Appendix1WHR2021C2.pdf)\n",
    "- put labels on graphs\n",
    "- more covid analysis\n",
    "- more cluster analysis (grouping countries based on features)\n",
    "- validity of ladder score (big assumption that \"ladder score\" = happiness)\n",
    "\n",
    "- [happiness and life satisfaction](https://towardsdatascience.com/happiness-and-life-satisfaction-ecdc7d0ab9a5)\n",
    "- analysis in markdown"
   ]
  },
  {
   "cell_type": "markdown",
   "metadata": {},
   "source": [
    "# World Happiness Index\n",
    "#### Oyun Adilbish, Lane Maitland, Jesse Price, Varun Saini\n",
    "#### <span style=\"color:purple\"> iXperience - Data Science - Purple </span>.\n",
    "#### July 22, 2021"
   ]
  },
  {
   "cell_type": "markdown",
   "metadata": {},
   "source": [
    "# Imports"
   ]
  },
  {
   "cell_type": "code",
   "execution_count": null,
   "metadata": {},
   "outputs": [],
   "source": [
    "import numpy as np\n",
    "import pandas as pd\n",
    "import seaborn as sns\n",
    "import matplotlib.pyplot as plt\n",
    "%matplotlib inline"
   ]
  },
  {
   "cell_type": "markdown",
   "metadata": {},
   "source": [
    "# Pre-Processing"
   ]
  },
  {
   "cell_type": "code",
   "execution_count": null,
   "metadata": {
    "id": "GcLvUWrtgq5_"
   },
   "outputs": [],
   "source": [
    "# read csv files into data frames\n",
    "df = pd.read_csv(\"data/world-happiness-report.csv\")\n",
    "df2021 = pd.read_csv(\"data/world-happiness-report-2021.csv\")"
   ]
  },
  {
   "cell_type": "markdown",
   "metadata": {},
   "source": [
    "Note that we have two data sets. The first contains data from 2008-2020, and the second contains data from 2021. We wish to combine these into one data frame, so we must examine their columns."
   ]
  },
  {
   "cell_type": "code",
   "execution_count": null,
   "metadata": {
    "colab": {
     "base_uri": "https://localhost:8080/"
    },
    "id": "WbVio4Vdjv1S",
    "outputId": "17e85b75-048a-4f2a-b37d-19e69cca1290"
   },
   "outputs": [],
   "source": [
    "# examine names of columns for 2008-2020 data frame\n",
    "list(df.columns)"
   ]
  },
  {
   "cell_type": "code",
   "execution_count": null,
   "metadata": {
    "colab": {
     "base_uri": "https://localhost:8080/"
    },
    "id": "52ozlbbUj2u-",
    "outputId": "77ac4454-923f-4853-f565-d264b5b90ed2"
   },
   "outputs": [],
   "source": [
    "# examine names of columns for 2021 data frame\n",
    "list(df2021.columns)"
   ]
  },
  {
   "cell_type": "markdown",
   "metadata": {},
   "source": [
    "The column names do not match. We will make the following adjustments:\n",
    "- add a column to the 2021 data frame to store the year\n",
    "- drop columns whose data will not be analyzed\n",
    "- rename the columns so that measurements for the same variable from different data sets will land in a single column\n",
    "- add a column to the 2005-2020 data frame to store the regional indicator\n",
    "\n",
    "In renaming the columns, we assume that healthy life expectancy at birth is the same as healthy life expectancy."
   ]
  },
  {
   "cell_type": "code",
   "execution_count": null,
   "metadata": {},
   "outputs": [],
   "source": [
    "# add column for year on 2021 data frame\n",
    "df2021['Year'] = 2021"
   ]
  },
  {
   "cell_type": "code",
   "execution_count": null,
   "metadata": {
    "id": "PRgK2Ypu00y6"
   },
   "outputs": [],
   "source": [
    "# drop columns whose data will not be analyzed\n",
    "df2021 = df2021.drop(columns=['Standard error of ladder score','upperwhisker', 'lowerwhisker',\n",
    "       'Ladder score in Dystopia',\n",
    "       'Explained by: Log GDP per capita', 'Explained by: Social support',\n",
    "       'Explained by: Healthy life expectancy',\n",
    "       'Explained by: Freedom to make life choices',\n",
    "       'Explained by: Generosity', 'Explained by: Perceptions of corruption',\n",
    "       'Dystopia + residual'], axis=1)\n",
    "df = df.drop(columns=['Positive affect','Negative affect'], axis=1)"
   ]
  },
  {
   "cell_type": "code",
   "execution_count": null,
   "metadata": {
    "id": "elof6wyT4Ju5"
   },
   "outputs": [],
   "source": [
    "# rename columns\n",
    "df2021 = df2021.rename(columns = {'Logged GDP per capita':'Log GDP per capita'} )\n",
    "df = df.rename(columns= {'year':'Year', 'Life Ladder':'Ladder score', 'Healthy life expectancy at birth' : 'Healthy life expectancy'})"
   ]
  },
  {
   "cell_type": "markdown",
   "metadata": {},
   "source": [
    "To add the regional indicator to the 2005-2020 data frame, we merge this data frame with one that consists of two columns from the 2021 data frame. Specifically, we take only the country and region, and we merge on the country."
   ]
  },
  {
   "cell_type": "code",
   "execution_count": null,
   "metadata": {},
   "outputs": [],
   "source": [
    "# add column for regional indicator on 2005-2020 data frame\n",
    "df_with_regions = pd.merge(df, df2021[['Country name','Regional indicator']], on = ['Country name'])"
   ]
  },
  {
   "cell_type": "markdown",
   "metadata": {},
   "source": [
    "We now combine the data frames by using concatination, confirm that we have data from years 2005-2021, and add a column to classify whether the year was pre-COVID or post-COVID. Note that we assume 2005-2019 to be pre-COVID and 2020-2021 to be post-COVID. We then reorder the columns so that columns related to names and dates appear before the others."
   ]
  },
  {
   "cell_type": "code",
   "execution_count": null,
   "metadata": {
    "colab": {
     "base_uri": "https://localhost:8080/"
    },
    "id": "EYAh8E0s8gvr",
    "outputId": "addd6a33-60bd-4f22-8cf0-4d14ef597594"
   },
   "outputs": [],
   "source": [
    "# combine data sets to create one data frame for 2005-2021\n",
    "df_all = pd.concat([df_with_regions, df2021], ignore_index=True).sort_values(by=\"Country name\", ascending=True)\n",
    "years_list = list(df_all[\"Year\"].unique())\n",
    "sorted(years_list)"
   ]
  },
  {
   "cell_type": "code",
   "execution_count": null,
   "metadata": {},
   "outputs": [],
   "source": [
    "# add column for time in terms of COVID\n",
    "def covid_time(row):\n",
    "    if row[\"Year\"] < 2020: # comment on how this could be improved if we had data by month and if we had data in future\n",
    "        return \"Pre-COVID\"\n",
    "    else:\n",
    "        return \"Post-COVID\"\n",
    "\n",
    "df_all[\"COVID time\"] = df_all.apply(covid_time, axis=1)"
   ]
  },
  {
   "cell_type": "code",
   "execution_count": null,
   "metadata": {},
   "outputs": [],
   "source": [
    "# reorder columns\n",
    "df_all = df_all[['Country name',\n",
    "                 'Regional indicator',\n",
    "                 'Year',\n",
    "                 'COVID time',\n",
    "                 'Ladder score',\n",
    "                 'Log GDP per capita',\n",
    "                 'Healthy life expectancy',\n",
    "                 'Social support',\n",
    "                 'Freedom to make life choices',\n",
    "                 'Generosity',\n",
    "                 'Perceptions of corruption']]"
   ]
  },
  {
   "cell_type": "code",
   "execution_count": null,
   "metadata": {
    "colab": {
     "base_uri": "https://localhost:8080/"
    },
    "id": "OImzLbLSK2ft",
    "outputId": "3a3c5c21-3ccc-43ab-9bf7-ae2d951e906f"
   },
   "outputs": [],
   "source": [
    "# confirm that data frame has the necessary columns in the intended order\n",
    "list(df_all.columns)"
   ]
  },
  {
   "cell_type": "code",
   "execution_count": null,
   "metadata": {},
   "outputs": [],
   "source": [
    "# observe the head and tail of the processed data frame\n",
    "df_all"
   ]
  },
  {
   "cell_type": "markdown",
   "metadata": {},
   "source": [
    "# Sort Countries by Average Ladder Score (2005-2021)"
   ]
  },
  {
   "cell_type": "code",
   "execution_count": null,
   "metadata": {},
   "outputs": [],
   "source": [
    "df_all_ladder = df_all.groupby(['Country name', 'Regional indicator'])['Ladder score'].mean().sort_values(ascending=False)\n",
    "print(\"top 15:\\n\", df_all_ladder.head(15))\n",
    "print(\"\\nbottom 15:\\n\", df_all_ladder.tail(15))"
   ]
  },
  {
   "cell_type": "markdown",
   "metadata": {},
   "source": [
    "We observe that many of the countries in the top/bottom 10 belong to the same region, so we feel that performing an analysis of average ladder score by region will be safe and valid. If the performance of countries in the same region differed greatly, we may wish to proceed with an analysis by country."
   ]
  },
  {
   "cell_type": "markdown",
   "metadata": {},
   "source": [
    "# Average Ladder Score by Region"
   ]
  },
  {
   "cell_type": "markdown",
   "metadata": {},
   "source": [
    "## 2021"
   ]
  },
  {
   "cell_type": "code",
   "execution_count": null,
   "metadata": {
    "colab": {
     "base_uri": "https://localhost:8080/",
     "height": 282
    },
    "id": "wsBS-roOmj1F",
    "outputId": "e0333b3a-9e92-41b6-f26f-861f32c1a6f3",
    "scrolled": true
   },
   "outputs": [],
   "source": [
    "df2021.groupby('Regional indicator')['Ladder score'].mean().sort_values(ascending=False).plot.barh()\n",
    "\n",
    "plt.xlabel(\"Ladder score\")\n",
    "plt.title(\"Average Ladder Score by Region (2021)\")\n",
    "plt.savefig('figures/by_regions_2021.png', dpi=300, bbox_inches='tight')"
   ]
  },
  {
   "cell_type": "markdown",
   "metadata": {},
   "source": [
    "## 2005-2021"
   ]
  },
  {
   "cell_type": "code",
   "execution_count": null,
   "metadata": {},
   "outputs": [],
   "source": [
    "df_region = df_all.groupby(['Regional indicator', 'Year'])['Ladder score'].mean().to_frame().reset_index()\n",
    "df_pivot_region = df_region.pivot(\"Year\", \"Regional indicator\", \"Ladder score\")\n",
    "\n",
    "sns.set(style=\"white\", font_scale=1.2)\n",
    "sns.relplot(data=df_pivot_region, kind=\"line\", height=5, aspect=3, dashes=False)\n",
    "\n",
    "plt.ylabel(\"Ladder score\") \n",
    "plt.title(\"Average Ladder Score by Region (2005-2021)\")\n",
    "plt.savefig(\"figures/by_region_all.png\", dpi=300, bbox_inches='tight')"
   ]
  },
  {
   "cell_type": "markdown",
   "metadata": {},
   "source": [
    "## Pre-COVID vs. Post-COVID"
   ]
  },
  {
   "cell_type": "markdown",
   "metadata": {},
   "source": [
    "For our analysis of the impact of COVID, we chose to only examine 2018-2019 as pre-COVID since we only had two years of data for post-COVID. We believed that the ladder score before 2018 was not representative of a country's performance near the start of the pandemic.\n",
    "\n",
    "We note that our analysis could be improved if we had obtained data by month, as the effects of the coronavirus began earlier (and persisted later) in some countries than others."
   ]
  },
  {
   "cell_type": "code",
   "execution_count": null,
   "metadata": {},
   "outputs": [],
   "source": [
    "sns.set(style=\"white\", font_scale=1.2)\n",
    "covid_plot = sns.catplot(x=\"Ladder score\", y=\"Regional indicator\", hue=\"COVID time\", data=df_all[df_all['Year'] >= 2018], kind=\"bar\", ci=None, height=5, aspect=3)\n",
    "\n",
    "plt.title(\"Average Ladder Score by Region (Pre-COVID vs. Post-COVID)\")\n",
    "plt.savefig('figures/covid.png', dpi=300, bbox_inches='tight')"
   ]
  },
  {
   "cell_type": "markdown",
   "metadata": {},
   "source": [
    "# Correlation Tables\n",
    "\n",
    "We now examine how well the ladder score of a country correlates to the features in the data set. In doing so, we aim to explore whether ladder score is influenced by some factors more than others."
   ]
  },
  {
   "cell_type": "markdown",
   "metadata": {},
   "source": [
    "## Ladder Score vs. Social Support"
   ]
  },
  {
   "cell_type": "code",
   "execution_count": null,
   "metadata": {
    "colab": {
     "base_uri": "https://localhost:8080/",
     "height": 296
    },
    "id": "fWCq_4G0oA3K",
    "outputId": "feff5ef5-c685-4986-d8c9-5d984846111f"
   },
   "outputs": [],
   "source": [
    "mydata = df_all[[\"Social support\", \"Ladder score\"]].dropna(how=\"any\")\n",
    "vals = mydata.values\n",
    "plt.scatter(vals[:, 0], vals[:, 1])\n",
    "plt.xlabel(\"Social support\")\n",
    "plt.ylabel(\"Ladder score\")"
   ]
  },
  {
   "cell_type": "markdown",
   "metadata": {},
   "source": [
    "## Correlation Table"
   ]
  },
  {
   "cell_type": "code",
   "execution_count": null,
   "metadata": {
    "colab": {
     "base_uri": "https://localhost:8080/",
     "height": 399
    },
    "id": "Iaq66jsfyV3n",
    "outputId": "ecb7c9d1-ebe6-4691-9cf3-24f0df23b2c8"
   },
   "outputs": [],
   "source": [
    "df_all.corr()"
   ]
  },
  {
   "cell_type": "markdown",
   "metadata": {},
   "source": [
    "## Heat Map for Correlation"
   ]
  },
  {
   "cell_type": "code",
   "execution_count": null,
   "metadata": {
    "colab": {
     "base_uri": "https://localhost:8080/",
     "height": 623
    },
    "id": "i0zoqDZdy4YT",
    "outputId": "ac306cf2-9064-4bf9-e419-65fee813d33d"
   },
   "outputs": [],
   "source": [
    "# remove the year column because its integer value is irrelevent to correlation with ladder score\n",
    "corrMatrix = df_all.drop(\"Year\", axis =1).corr() \n",
    "\n",
    "f,ax=plt.subplots(figsize=(8,8))\n",
    "hmap = sns.heatmap(corrMatrix, annot=True, linewidth=.5,fmt='.2f',ax=ax, square=True, cmap='RdYlBu_r')\n",
    "hmap.set_xticklabels(hmap.get_xticklabels(), rotation=45, horizontalalignment='right')\n",
    "plt.savefig('figures/heatmap.png', dpi=300, bbox_inches='tight')"
   ]
  },
  {
   "cell_type": "markdown",
   "metadata": {},
   "source": [
    "# Clustering"
   ]
  },
  {
   "cell_type": "code",
   "execution_count": null,
   "metadata": {},
   "outputs": [],
   "source": [
    "# review the columns that have numeric values\n",
    "\n",
    "list(df_all.select_dtypes(include='number').columns)"
   ]
  },
  {
   "cell_type": "code",
   "execution_count": null,
   "metadata": {
    "scrolled": true
   },
   "outputs": [],
   "source": [
    "from sklearn import mixture\n",
    "\n",
    "start = df_all.groupby('Country name').mean()\n",
    "\n",
    "X = start.select_dtypes(include='number')\n",
    "X = X[['Ladder score', 'Log GDP per capita', 'Healthy life expectancy', 'Social support', 'Freedom to make life choices', 'Generosity',\n",
    "       'Perceptions of corruption']].copy()\n",
    "\n",
    "model = mixture.GaussianMixture(n_components=3, covariance_type='full') \n",
    "model.fit(X)\n",
    "y = model.predict(X)\n",
    "\n",
    "# remove the year column because its integer value is irrelevent to correlation with ladder score\n",
    "to_plot = start.copy().reset_index().drop(\"Year\", axis =1)\n",
    "to_plot.loc[:, 'cluster'] = pd.Series(y)"
   ]
  },
  {
   "cell_type": "markdown",
   "metadata": {},
   "source": [
    "## Review Countries in Each Cluster"
   ]
  },
  {
   "cell_type": "code",
   "execution_count": null,
   "metadata": {},
   "outputs": [],
   "source": [
    "cluster_sorted = to_plot.sort_values('Country name')\n",
    "\n",
    "# highest cluster\n",
    "highest = cluster_sorted.query(\"`Country name` == 'United States'\")['cluster'].iloc[0]\n",
    "\n",
    "# middle cluster\n",
    "middle = cluster_sorted.query(\"`Country name` == 'Russia'\")['cluster'].iloc[0]\n",
    "\n",
    "# lowest cluster\n",
    "lowest = cluster_sorted.query(\"`Country name` == 'South Africa'\")['cluster'].iloc[0]\n",
    "\n",
    "print(\"highest: \", list(cluster_sorted.query('cluster == @highest')['Country name'].unique()))\n",
    "print(\"\\nmiddle: \", list(cluster_sorted.query('cluster == @middle')['Country name'].unique()))\n",
    "print(\"\\nlowest: \", list(cluster_sorted.query('cluster == @lowest')['Country name'].unique()))"
   ]
  },
  {
   "cell_type": "markdown",
   "metadata": {},
   "source": [
    "## Cluster Breakdown by Regional Indicator"
   ]
  },
  {
   "cell_type": "code",
   "execution_count": null,
   "metadata": {},
   "outputs": [],
   "source": [
    "regional = pd.merge(cluster_sorted, df2021[['Country name', 'Regional indicator']], on='Country name')\n",
    "unstacked = regional.groupby('Regional indicator')['cluster'].value_counts().unstack()\n",
    "unstacked.rename(columns={highest: 'highest', middle: 'middle', lowest: 'lowest'}, inplace=True)"
   ]
  },
  {
   "cell_type": "code",
   "execution_count": null,
   "metadata": {},
   "outputs": [],
   "source": [
    "ax_h = sns.catplot(data = unstacked.reset_index(), x='highest', y='Regional indicator', kind='bar', aspect=2)\n",
    "ax_h.set(xlabel='Number of Countries in the Highest Cluster')"
   ]
  },
  {
   "cell_type": "code",
   "execution_count": null,
   "metadata": {},
   "outputs": [],
   "source": [
    "ax_m = sns.catplot(data = unstacked.reset_index(), x='middle', y='Regional indicator', kind='bar', aspect=2)\n",
    "ax_m.set(xlabel='Number of Countries in the Middle Cluster')"
   ]
  },
  {
   "cell_type": "code",
   "execution_count": null,
   "metadata": {},
   "outputs": [],
   "source": [
    "ax_l = sns.catplot(data = unstacked.reset_index(), x='lowest', y='Regional indicator', kind='bar', aspect=2)\n",
    "ax_l.set(xlabel='Number of Countries in the Lowest Cluster')"
   ]
  },
  {
   "cell_type": "markdown",
   "metadata": {},
   "source": [
    "## Pair Plot (Clustered)"
   ]
  },
  {
   "cell_type": "code",
   "execution_count": null,
   "metadata": {},
   "outputs": [],
   "source": [
    "# need to relabel key!\n",
    "\n",
    "%matplotlib inline\n",
    "sns.set(style=\"white\", font_scale=1.2)\n",
    "\n",
    "pair = sns.pairplot(data=to_plot, hue='cluster')\n",
    "?sns.pairplot"
   ]
  },
  {
   "cell_type": "code",
   "execution_count": null,
   "metadata": {},
   "outputs": [],
   "source": [
    "pair.savefig('figures/pairplot_3clusters.png', dpi=300, bbox_inches='tight')"
   ]
  },
  {
   "cell_type": "code",
   "execution_count": null,
   "metadata": {},
   "outputs": [],
   "source": [
    "# choose some plots/relationships to discuss!"
   ]
  },
  {
   "cell_type": "markdown",
   "metadata": {},
   "source": [
    "# Dimensionality Reduction"
   ]
  },
  {
   "cell_type": "markdown",
   "metadata": {},
   "source": [
    "## 2-Dimensional"
   ]
  },
  {
   "cell_type": "code",
   "execution_count": null,
   "metadata": {},
   "outputs": [],
   "source": [
    "%matplotlib inline\n",
    "from sklearn.decomposition import PCA\n",
    "model = PCA(n_components=3)\n",
    "model.fit(X)\n",
    "X_2D = model.transform(X)\n",
    "\n",
    "to_plot['PCA1'] = X_2D[:, 0]\n",
    "to_plot['PCA2'] = X_2D[:, 1]\n",
    "to_plot['PCA3'] = X_2D[:, 2]\n",
    "sns.lmplot(x=\"PCA1\", y=\"PCA2\", hue='cluster', data=to_plot, fit_reg=False);"
   ]
  },
  {
   "cell_type": "markdown",
   "metadata": {},
   "source": [
    "## 3-Dimensional"
   ]
  },
  {
   "cell_type": "code",
   "execution_count": null,
   "metadata": {},
   "outputs": [],
   "source": [
    "# 3D Dimensionality Reduction\n",
    "import matplotlib.pyplot as plt\n",
    "from mpl_toolkits.mplot3d import Axes3D\n",
    "# %matplotlib notebook\n",
    "\n",
    "fig = plt.figure()\n",
    "ax = Axes3D(fig)\n",
    "\n",
    "ax.scatter(to_plot[to_plot['cluster'] == 0]['PCA1'], to_plot[to_plot['cluster'] == 0]['PCA2'], to_plot[to_plot['cluster'] == 0]['PCA3'], c='r')\n",
    "ax.scatter(to_plot[to_plot['cluster'] == 1]['PCA1'], to_plot[to_plot['cluster'] == 1]['PCA2'], to_plot[to_plot['cluster'] == 1]['PCA3'], c='b')\n",
    "ax.scatter(to_plot[to_plot['cluster'] == 2]['PCA1'], to_plot[to_plot['cluster'] == 2]['PCA2'], to_plot[to_plot['cluster'] == 2]['PCA3'], c='g')\n",
    "plt.show()"
   ]
  },
  {
   "cell_type": "markdown",
   "metadata": {},
   "source": [
    "# Linear Regression"
   ]
  },
  {
   "cell_type": "code",
   "execution_count": null,
   "metadata": {},
   "outputs": [],
   "source": [
    "from sklearn.linear_model import LinearRegression\n",
    "from sklearn.metrics import mean_squared_error, mean_absolute_error, r2_score\n",
    "\n",
    "feature_list = [\"Log GDP per capita\", \"Healthy life expectancy\", \"Social support\",\n",
    "                \"Freedom to make life choices\", \"Generosity\", \"Perceptions of corruption\"]\n",
    "\n",
    "y = to_plot[\"Ladder score\"]\n",
    "\n",
    "for feature in feature_list:\n",
    "    model = LinearRegression()\n",
    "    X = to_plot[[feature]]\n",
    "    model.fit(X, y)\n",
    "    y_pred = model.predict(X)\n",
    "    mse = mean_squared_error(y_true=y, y_pred=y_pred)\n",
    "    mae = mean_absolute_error(y_true=y, y_pred=y_pred)\n",
    "    r2 = r2_score(y_true=y, y_pred=y_pred)\n",
    "    print((\"{}:\\n \\t mean squared error: {}\\n \\t mean absolute error: {}\\n \\t coefficient of determination: {}\")\n",
    "          .format(feature, mse, mae, r2))"
   ]
  },
  {
   "cell_type": "markdown",
   "metadata": {},
   "source": [
    "# Pandas Profiling"
   ]
  },
  {
   "cell_type": "code",
   "execution_count": null,
   "metadata": {},
   "outputs": [],
   "source": [
    "# !pip install https://github.com/pandas-profiling/pandas-profiling/archive/master.zip\n",
    "# conda update -n base -c defaults conda\n",
    "# !conda install -c conda-forge pandas-profiling -y\n",
    "\n",
    "# from pandas_profiling import ProfileReport"
   ]
  },
  {
   "cell_type": "code",
   "execution_count": null,
   "metadata": {
    "id": "RfVPnyIDO77w"
   },
   "outputs": [],
   "source": [
    "# my_report = ProfileReport(df_all, title=\"World Happiness Index\", html={'style':{'full width':True}})\n",
    "# my_report.to_notebook_iframe()\n",
    "# my_report.to_file(output_file=\"World Happiness Index.html\")"
   ]
  }
 ],
 "metadata": {
  "colab": {
   "collapsed_sections": [],
   "name": "happiness analysis.ipynb",
   "provenance": []
  },
  "kernelspec": {
   "display_name": "Python 3",
   "language": "python",
   "name": "python3"
  },
  "language_info": {
   "codemirror_mode": {
    "name": "ipython",
    "version": 3
   },
   "file_extension": ".py",
   "mimetype": "text/x-python",
   "name": "python",
   "nbconvert_exporter": "python",
   "pygments_lexer": "ipython3",
   "version": "3.8.8"
  }
 },
 "nbformat": 4,
 "nbformat_minor": 1
}
