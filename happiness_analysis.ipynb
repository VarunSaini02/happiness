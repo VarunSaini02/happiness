{
 "cells": [
  {
   "cell_type": "markdown",
   "metadata": {
    "id": "eA9oyxz-JyUT"
   },
   "source": [
    "#**to do:**\n",
    "\n",
    "- [define factors](https://happiness-report.s3.amazonaws.com/2021/Appendix1WHR2021C2.pdf)\n",
    "- put labels on graphs\n",
    "- graph ladder score over all years for each country\n",
    "\n"
   ]
  },
  {
   "cell_type": "code",
   "execution_count": 1,
   "metadata": {},
   "outputs": [],
   "source": [
    "# imports\n",
    "import numpy as np\n",
    "import pandas as pd\n",
    "import seaborn as sns\n",
    "import matplotlib.pyplot as plt\n",
    "%matplotlib inline"
   ]
  },
  {
   "cell_type": "code",
   "execution_count": 2,
   "metadata": {
    "id": "GcLvUWrtgq5_"
   },
   "outputs": [],
   "source": [
    "# read csv files into data frames\n",
    "df = pd.read_csv(\"data/world-happiness-report.csv\")\n",
    "df2021 = pd.read_csv(\"data/world-happiness-report-2021.csv\")"
   ]
  },
  {
   "cell_type": "code",
   "execution_count": 3,
   "metadata": {
    "id": "XNNtDrYcjDkW"
   },
   "outputs": [],
   "source": [
    "# Add column for year on the data set for 2021\n",
    "df2021['Year'] = 2021"
   ]
  },
  {
   "cell_type": "code",
   "execution_count": 4,
   "metadata": {
    "colab": {
     "base_uri": "https://localhost:8080/"
    },
    "id": "WbVio4Vdjv1S",
    "outputId": "17e85b75-048a-4f2a-b37d-19e69cca1290"
   },
   "outputs": [
    {
     "data": {
      "text/plain": [
       "['Country name',\n",
       " 'year',\n",
       " 'Life Ladder',\n",
       " 'Log GDP per capita',\n",
       " 'Social support',\n",
       " 'Healthy life expectancy at birth',\n",
       " 'Freedom to make life choices',\n",
       " 'Generosity',\n",
       " 'Perceptions of corruption',\n",
       " 'Positive affect',\n",
       " 'Negative affect']"
      ]
     },
     "execution_count": 4,
     "metadata": {},
     "output_type": "execute_result"
    }
   ],
   "source": [
    "list(df.columns)"
   ]
  },
  {
   "cell_type": "code",
   "execution_count": 5,
   "metadata": {
    "colab": {
     "base_uri": "https://localhost:8080/"
    },
    "id": "52ozlbbUj2u-",
    "outputId": "77ac4454-923f-4853-f565-d264b5b90ed2"
   },
   "outputs": [
    {
     "data": {
      "text/plain": [
       "['Country name',\n",
       " 'Regional indicator',\n",
       " 'Ladder score',\n",
       " 'Standard error of ladder score',\n",
       " 'upperwhisker',\n",
       " 'lowerwhisker',\n",
       " 'Logged GDP per capita',\n",
       " 'Social support',\n",
       " 'Healthy life expectancy',\n",
       " 'Freedom to make life choices',\n",
       " 'Generosity',\n",
       " 'Perceptions of corruption',\n",
       " 'Ladder score in Dystopia',\n",
       " 'Explained by: Log GDP per capita',\n",
       " 'Explained by: Social support',\n",
       " 'Explained by: Healthy life expectancy',\n",
       " 'Explained by: Freedom to make life choices',\n",
       " 'Explained by: Generosity',\n",
       " 'Explained by: Perceptions of corruption',\n",
       " 'Dystopia + residual',\n",
       " 'Year']"
      ]
     },
     "execution_count": 5,
     "metadata": {},
     "output_type": "execute_result"
    }
   ],
   "source": [
    "list(df2021.columns)"
   ]
  },
  {
   "cell_type": "code",
   "execution_count": 6,
   "metadata": {
    "id": "PRgK2Ypu00y6"
   },
   "outputs": [],
   "source": [
    "# drop unnecessary columns\n",
    "df2021 = df2021.drop(columns=['Standard error of ladder score','upperwhisker', 'lowerwhisker',\n",
    "       'Ladder score in Dystopia',\n",
    "       'Explained by: Log GDP per capita', 'Explained by: Social support',\n",
    "       'Explained by: Healthy life expectancy',\n",
    "       'Explained by: Freedom to make life choices',\n",
    "       'Explained by: Generosity', 'Explained by: Perceptions of corruption',\n",
    "       'Dystopia + residual'], axis=1)\n",
    "df = df.drop(columns=['Positive affect','Negative affect'], axis=1)"
   ]
  },
  {
   "cell_type": "code",
   "execution_count": 7,
   "metadata": {
    "id": "elof6wyT4Ju5"
   },
   "outputs": [],
   "source": [
    "# rename columns so that the data in the two files can be compared with by the same variable names\n",
    "df2021 = df2021.rename(columns = {'Logged GDP per capita':'Log GDP per capita'} )\n",
    "df = df.rename(columns= {'year':'Year', 'Life Ladder':'Ladder score', 'Healthy life expectancy at birth' : 'Healthy life expectancy'}) #we assume that healthy life expectancy at birth is the same as healthy life expectancy "
   ]
  },
  {
   "cell_type": "code",
   "execution_count": 8,
   "metadata": {
    "colab": {
     "base_uri": "https://localhost:8080/"
    },
    "id": "QIfDR3J7lMnO",
    "outputId": "d375aae0-8741-4e41-fe7a-227e7d25d890"
   },
   "outputs": [
    {
     "data": {
      "text/plain": [
       "array([2008, 2009, 2010, 2011, 2012, 2013, 2014, 2015, 2016, 2017, 2018,\n",
       "       2019, 2007, 2020, 2006, 2005])"
      ]
     },
     "execution_count": 8,
     "metadata": {},
     "output_type": "execute_result"
    }
   ],
   "source": [
    "# add regional indicator to data set for 2008-2020\n",
    "df_with_regions = pd.merge(df, df2021[['Country name','Regional indicator']], on = ['Country name'])\n",
    "# df_with_regions\n",
    "df_with_regions[\"Year\"].unique() #does not include 2021"
   ]
  },
  {
   "cell_type": "code",
   "execution_count": 9,
   "metadata": {
    "colab": {
     "base_uri": "https://localhost:8080/"
    },
    "id": "EYAh8E0s8gvr",
    "outputId": "addd6a33-60bd-4f22-8cf0-4d14ef597594"
   },
   "outputs": [
    {
     "data": {
      "text/plain": [
       "[2008,\n",
       " 2019,\n",
       " 2018,\n",
       " 2017,\n",
       " 2016,\n",
       " 2015,\n",
       " 2021,\n",
       " 2013,\n",
       " 2012,\n",
       " 2011,\n",
       " 2010,\n",
       " 2009,\n",
       " 2014,\n",
       " 2020,\n",
       " 2007,\n",
       " 2006,\n",
       " 2005]"
      ]
     },
     "execution_count": 9,
     "metadata": {},
     "output_type": "execute_result"
    }
   ],
   "source": [
    "# combine data sets to create one data frame for 2008-2021\n",
    "df_all = pd.concat([df_with_regions, df2021], ignore_index=True).sort_values(by=\"Country name\", ascending=True)\n",
    "years_list = list(df_all[\"Year\"].unique())\n",
    "years_list"
   ]
  },
  {
   "cell_type": "code",
   "execution_count": 10,
   "metadata": {
    "id": "cYO4EWtaJbIe"
   },
   "outputs": [],
   "source": [
    "# reorder columns\n",
    "df_all = df_all[['Country name',\n",
    "                 'Regional indicator',\n",
    "                 'Year',\n",
    "                 'Ladder score',\n",
    "                 'Log GDP per capita',\n",
    "                 'Healthy life expectancy',\n",
    "                 'Social support',\n",
    "                 'Freedom to make life choices',\n",
    "                 'Generosity',\n",
    "                 'Perceptions of corruption']]"
   ]
  },
  {
   "cell_type": "code",
   "execution_count": 11,
   "metadata": {},
   "outputs": [
    {
     "data": {
      "text/html": [
       "<div>\n",
       "<style scoped>\n",
       "    .dataframe tbody tr th:only-of-type {\n",
       "        vertical-align: middle;\n",
       "    }\n",
       "\n",
       "    .dataframe tbody tr th {\n",
       "        vertical-align: top;\n",
       "    }\n",
       "\n",
       "    .dataframe thead th {\n",
       "        text-align: right;\n",
       "    }\n",
       "</style>\n",
       "<table border=\"1\" class=\"dataframe\">\n",
       "  <thead>\n",
       "    <tr style=\"text-align: right;\">\n",
       "      <th></th>\n",
       "      <th>Country name</th>\n",
       "      <th>Regional indicator</th>\n",
       "      <th>Year</th>\n",
       "      <th>Ladder score</th>\n",
       "      <th>Log GDP per capita</th>\n",
       "      <th>Healthy life expectancy</th>\n",
       "      <th>Social support</th>\n",
       "      <th>Freedom to make life choices</th>\n",
       "      <th>Generosity</th>\n",
       "      <th>Perceptions of corruption</th>\n",
       "      <th>COVID time</th>\n",
       "    </tr>\n",
       "  </thead>\n",
       "  <tbody>\n",
       "    <tr>\n",
       "      <th>0</th>\n",
       "      <td>Afghanistan</td>\n",
       "      <td>South Asia</td>\n",
       "      <td>2008</td>\n",
       "      <td>3.724</td>\n",
       "      <td>7.370</td>\n",
       "      <td>50.800</td>\n",
       "      <td>0.451</td>\n",
       "      <td>0.718</td>\n",
       "      <td>0.168</td>\n",
       "      <td>0.882</td>\n",
       "      <td>Pre-COVID</td>\n",
       "    </tr>\n",
       "    <tr>\n",
       "      <th>11</th>\n",
       "      <td>Afghanistan</td>\n",
       "      <td>South Asia</td>\n",
       "      <td>2019</td>\n",
       "      <td>2.375</td>\n",
       "      <td>7.697</td>\n",
       "      <td>52.400</td>\n",
       "      <td>0.420</td>\n",
       "      <td>0.394</td>\n",
       "      <td>-0.108</td>\n",
       "      <td>0.924</td>\n",
       "      <td>Pre-COVID</td>\n",
       "    </tr>\n",
       "    <tr>\n",
       "      <th>10</th>\n",
       "      <td>Afghanistan</td>\n",
       "      <td>South Asia</td>\n",
       "      <td>2018</td>\n",
       "      <td>2.694</td>\n",
       "      <td>7.692</td>\n",
       "      <td>52.600</td>\n",
       "      <td>0.508</td>\n",
       "      <td>0.374</td>\n",
       "      <td>-0.094</td>\n",
       "      <td>0.928</td>\n",
       "      <td>Pre-COVID</td>\n",
       "    </tr>\n",
       "    <tr>\n",
       "      <th>9</th>\n",
       "      <td>Afghanistan</td>\n",
       "      <td>South Asia</td>\n",
       "      <td>2017</td>\n",
       "      <td>2.662</td>\n",
       "      <td>7.697</td>\n",
       "      <td>52.800</td>\n",
       "      <td>0.491</td>\n",
       "      <td>0.427</td>\n",
       "      <td>-0.121</td>\n",
       "      <td>0.954</td>\n",
       "      <td>Pre-COVID</td>\n",
       "    </tr>\n",
       "    <tr>\n",
       "      <th>8</th>\n",
       "      <td>Afghanistan</td>\n",
       "      <td>South Asia</td>\n",
       "      <td>2016</td>\n",
       "      <td>4.220</td>\n",
       "      <td>7.697</td>\n",
       "      <td>53.000</td>\n",
       "      <td>0.559</td>\n",
       "      <td>0.523</td>\n",
       "      <td>0.042</td>\n",
       "      <td>0.793</td>\n",
       "      <td>Pre-COVID</td>\n",
       "    </tr>\n",
       "    <tr>\n",
       "      <th>...</th>\n",
       "      <td>...</td>\n",
       "      <td>...</td>\n",
       "      <td>...</td>\n",
       "      <td>...</td>\n",
       "      <td>...</td>\n",
       "      <td>...</td>\n",
       "      <td>...</td>\n",
       "      <td>...</td>\n",
       "      <td>...</td>\n",
       "      <td>...</td>\n",
       "      <td>...</td>\n",
       "    </tr>\n",
       "    <tr>\n",
       "      <th>1873</th>\n",
       "      <td>Zimbabwe</td>\n",
       "      <td>Sub-Saharan Africa</td>\n",
       "      <td>2008</td>\n",
       "      <td>3.174</td>\n",
       "      <td>7.461</td>\n",
       "      <td>44.140</td>\n",
       "      <td>0.843</td>\n",
       "      <td>0.344</td>\n",
       "      <td>-0.090</td>\n",
       "      <td>0.964</td>\n",
       "      <td>Pre-COVID</td>\n",
       "    </tr>\n",
       "    <tr>\n",
       "      <th>1871</th>\n",
       "      <td>Zimbabwe</td>\n",
       "      <td>Sub-Saharan Africa</td>\n",
       "      <td>2006</td>\n",
       "      <td>3.826</td>\n",
       "      <td>7.711</td>\n",
       "      <td>41.580</td>\n",
       "      <td>0.822</td>\n",
       "      <td>0.431</td>\n",
       "      <td>-0.076</td>\n",
       "      <td>0.905</td>\n",
       "      <td>Pre-COVID</td>\n",
       "    </tr>\n",
       "    <tr>\n",
       "      <th>2033</th>\n",
       "      <td>Zimbabwe</td>\n",
       "      <td>Sub-Saharan Africa</td>\n",
       "      <td>2021</td>\n",
       "      <td>3.145</td>\n",
       "      <td>7.943</td>\n",
       "      <td>56.201</td>\n",
       "      <td>0.750</td>\n",
       "      <td>0.677</td>\n",
       "      <td>-0.047</td>\n",
       "      <td>0.821</td>\n",
       "      <td>Post-COVID</td>\n",
       "    </tr>\n",
       "    <tr>\n",
       "      <th>1877</th>\n",
       "      <td>Zimbabwe</td>\n",
       "      <td>Sub-Saharan Africa</td>\n",
       "      <td>2012</td>\n",
       "      <td>4.955</td>\n",
       "      <td>7.983</td>\n",
       "      <td>49.540</td>\n",
       "      <td>0.896</td>\n",
       "      <td>0.470</td>\n",
       "      <td>-0.103</td>\n",
       "      <td>0.859</td>\n",
       "      <td>Pre-COVID</td>\n",
       "    </tr>\n",
       "    <tr>\n",
       "      <th>1885</th>\n",
       "      <td>Zimbabwe</td>\n",
       "      <td>Sub-Saharan Africa</td>\n",
       "      <td>2020</td>\n",
       "      <td>3.160</td>\n",
       "      <td>7.829</td>\n",
       "      <td>56.800</td>\n",
       "      <td>0.717</td>\n",
       "      <td>0.643</td>\n",
       "      <td>-0.009</td>\n",
       "      <td>0.789</td>\n",
       "      <td>Post-COVID</td>\n",
       "    </tr>\n",
       "  </tbody>\n",
       "</table>\n",
       "<p>2035 rows × 11 columns</p>\n",
       "</div>"
      ],
      "text/plain": [
       "     Country name  Regional indicator  Year  Ladder score  Log GDP per capita  \\\n",
       "0     Afghanistan          South Asia  2008         3.724               7.370   \n",
       "11    Afghanistan          South Asia  2019         2.375               7.697   \n",
       "10    Afghanistan          South Asia  2018         2.694               7.692   \n",
       "9     Afghanistan          South Asia  2017         2.662               7.697   \n",
       "8     Afghanistan          South Asia  2016         4.220               7.697   \n",
       "...           ...                 ...   ...           ...                 ...   \n",
       "1873     Zimbabwe  Sub-Saharan Africa  2008         3.174               7.461   \n",
       "1871     Zimbabwe  Sub-Saharan Africa  2006         3.826               7.711   \n",
       "2033     Zimbabwe  Sub-Saharan Africa  2021         3.145               7.943   \n",
       "1877     Zimbabwe  Sub-Saharan Africa  2012         4.955               7.983   \n",
       "1885     Zimbabwe  Sub-Saharan Africa  2020         3.160               7.829   \n",
       "\n",
       "      Healthy life expectancy  Social support  Freedom to make life choices  \\\n",
       "0                      50.800           0.451                         0.718   \n",
       "11                     52.400           0.420                         0.394   \n",
       "10                     52.600           0.508                         0.374   \n",
       "9                      52.800           0.491                         0.427   \n",
       "8                      53.000           0.559                         0.523   \n",
       "...                       ...             ...                           ...   \n",
       "1873                   44.140           0.843                         0.344   \n",
       "1871                   41.580           0.822                         0.431   \n",
       "2033                   56.201           0.750                         0.677   \n",
       "1877                   49.540           0.896                         0.470   \n",
       "1885                   56.800           0.717                         0.643   \n",
       "\n",
       "      Generosity  Perceptions of corruption  COVID time  \n",
       "0          0.168                      0.882   Pre-COVID  \n",
       "11        -0.108                      0.924   Pre-COVID  \n",
       "10        -0.094                      0.928   Pre-COVID  \n",
       "9         -0.121                      0.954   Pre-COVID  \n",
       "8          0.042                      0.793   Pre-COVID  \n",
       "...          ...                        ...         ...  \n",
       "1873      -0.090                      0.964   Pre-COVID  \n",
       "1871      -0.076                      0.905   Pre-COVID  \n",
       "2033      -0.047                      0.821  Post-COVID  \n",
       "1877      -0.103                      0.859   Pre-COVID  \n",
       "1885      -0.009                      0.789  Post-COVID  \n",
       "\n",
       "[2035 rows x 11 columns]"
      ]
     },
     "execution_count": 11,
     "metadata": {},
     "output_type": "execute_result"
    }
   ],
   "source": [
    "# add column for time in terms of COVID\n",
    "def covid_time(row):\n",
    "    if row[\"Year\"] < 2020:\n",
    "        return \"Pre-COVID\"\n",
    "    else:\n",
    "        return \"Post-COVID\"\n",
    "\n",
    "df_all[\"COVID time\"] = df_all.apply(covid_time, axis=1)\n",
    "df_all"
   ]
  },
  {
   "cell_type": "code",
   "execution_count": 13,
   "metadata": {
    "colab": {
     "base_uri": "https://localhost:8080/"
    },
    "id": "OImzLbLSK2ft",
    "outputId": "3a3c5c21-3ccc-43ab-9bf7-ae2d951e906f"
   },
   "outputs": [
    {
     "data": {
      "text/plain": [
       "['Country name',\n",
       " 'Regional indicator',\n",
       " 'Year',\n",
       " 'Ladder score',\n",
       " 'Log GDP per capita',\n",
       " 'Healthy life expectancy',\n",
       " 'Social support',\n",
       " 'Freedom to make life choices',\n",
       " 'Generosity',\n",
       " 'Perceptions of corruption',\n",
       " 'COVID time']"
      ]
     },
     "execution_count": 13,
     "metadata": {},
     "output_type": "execute_result"
    }
   ],
   "source": [
    "list(df_all.columns)"
   ]
  },
  {
   "cell_type": "code",
   "execution_count": null,
   "metadata": {
    "colab": {
     "base_uri": "https://localhost:8080/",
     "height": 282
    },
    "id": "wsBS-roOmj1F",
    "outputId": "e0333b3a-9e92-41b6-f26f-861f32c1a6f3"
   },
   "outputs": [],
   "source": [
    "# average ladder score by region\n",
    "df_all.groupby('Regional indicator')['Ladder score'].mean().plot.barh()"
   ]
  },
  {
   "cell_type": "code",
   "execution_count": 26,
   "metadata": {},
   "outputs": [
    {
     "data": {
      "image/png": "[encoded data removed]",
      "text/plain": [
       "<Figure size 1172.38x360 with 1 Axes>"
      ]
     },
     "metadata": {
      "needs_background": "light"
     },
     "output_type": "display_data"
    }
   ],
   "source": [
    "# plot pre-covid and post-covid on same graph as two different bars\n",
    "covid_plot = sns.catplot(x=\"Ladder score\", y=\"Regional indicator\", hue=\"COVID time\", data=df_all, kind=\"bar\", ci=None, height=5, aspect=3)"
   ]
  },
  {
   "cell_type": "code",
   "execution_count": null,
   "metadata": {
    "id": "ZAkTMqMmJIND"
   },
   "outputs": [],
   "source": [
    "# create pivot table for countries (should probably delte, too much going on)\n",
    "df_pivot_country = df_all.pivot(\"Year\", \"Country name\", \"Ladder score\")\n",
    "sns.lineplot(data=df_pivot_country)"
   ]
  },
  {
   "cell_type": "code",
   "execution_count": null,
   "metadata": {
    "colab": {
     "base_uri": "https://localhost:8080/",
     "height": 296
    },
    "id": "bID6tqMkRy75",
    "outputId": "339cc6a5-4deb-4d2c-d76d-26ec860f69ad"
   },
   "outputs": [],
   "source": [
    "# create pivot table for regions\n",
    "df_region = df_all.groupby(['Regional indicator', 'Year'])['Ladder score'].mean().to_frame().reset_index()\n",
    "\n",
    "df_pivot_region = df_region.pivot(\"Year\", \"Regional indicator\", \"Ladder score\")\n",
    "sns.lineplot(data=df_pivot_region)\n",
    "\n",
    "# need to move key"
   ]
  },
  {
   "cell_type": "code",
   "execution_count": null,
   "metadata": {
    "colab": {
     "base_uri": "https://localhost:8080/"
    },
    "id": "PSaaOKMduvK9",
    "outputId": "137911f0-8e07-442e-ba67-3d17f2ee0ed0"
   },
   "outputs": [],
   "source": [
    "# sort countries by average ladder score over all years\n",
    "df_all_ladder = df_all.groupby('Country name')['Ladder score'].mean().sort_values(ascending=False)\n",
    "df_all_ladder"
   ]
  },
  {
   "cell_type": "code",
   "execution_count": null,
   "metadata": {
    "colab": {
     "base_uri": "https://localhost:8080/",
     "height": 296
    },
    "id": "fWCq_4G0oA3K",
    "outputId": "feff5ef5-c685-4986-d8c9-5d984846111f"
   },
   "outputs": [],
   "source": [
    "# compare two factors\n",
    "mydata = df_all[[\"Social support\", \"Ladder score\"]].dropna(how=\"any\")\n",
    "vals = mydata.values\n",
    "plt.scatter(vals[:, 0], vals[:, 1])\n",
    "plt.xlabel(\"Social support\")\n",
    "plt.ylabel(\"Ladder score\")"
   ]
  },
  {
   "cell_type": "code",
   "execution_count": null,
   "metadata": {
    "colab": {
     "base_uri": "https://localhost:8080/",
     "height": 399
    },
    "id": "Iaq66jsfyV3n",
    "outputId": "ecb7c9d1-ebe6-4691-9cf3-24f0df23b2c8"
   },
   "outputs": [],
   "source": [
    "# table of values for correlation\n",
    "df_all.corr()"
   ]
  },
  {
   "cell_type": "code",
   "execution_count": null,
   "metadata": {
    "colab": {
     "base_uri": "https://localhost:8080/",
     "height": 623
    },
    "id": "i0zoqDZdy4YT",
    "outputId": "ac306cf2-9064-4bf9-e419-65fee813d33d"
   },
   "outputs": [],
   "source": [
    "#heat map for correlation\n",
    "f,ax=plt.subplots(figsize=(8,8))\n",
    "corrMatrix = df_all.corr()\n",
    "Heatmap = sns.heatmap(corrMatrix, annot=True, linewidth=.5,fmt='.2f',ax=ax)\n",
    "plt.show()\n"
   ]
  },
  {
   "cell_type": "code",
   "execution_count": null,
   "metadata": {
    "id": "ZelVTdmyNh2v"
   },
   "outputs": [],
   "source": [
    "# ! pip install https://github.com/pandas-profiling/pandas-profiling/archive/master.zip\n",
    "# from pandas_profiling import ProfileReport"
   ]
  },
  {
   "cell_type": "code",
   "execution_count": null,
   "metadata": {
    "id": "RfVPnyIDO77w"
   },
   "outputs": [],
   "source": [
    "# my_report = ProfileReport(df_all, title=\"My Report - Testing\", html={'style':{'full width':True}})\n",
    "# my_report.to_notebook_iframe()\n",
    "# my_report.to_file(output_file=\"My Report - Testing.html\")"
   ]
  }
 ],
 "metadata": {
  "colab": {
   "collapsed_sections": [],
   "name": "happiness analysis.ipynb",
   "provenance": []
  },
  "kernelspec": {
   "display_name": "Python 3",
   "language": "python",
   "name": "python3"
  },
  "language_info": {
   "codemirror_mode": {
    "name": "ipython",
    "version": 3
   },
   "file_extension": ".py",
   "mimetype": "text/x-python",
   "name": "python",
   "nbconvert_exporter": "python",
   "pygments_lexer": "ipython3",
   "version": "3.8.8"
  }
 },
 "nbformat": 4,
 "nbformat_minor": 1
}
